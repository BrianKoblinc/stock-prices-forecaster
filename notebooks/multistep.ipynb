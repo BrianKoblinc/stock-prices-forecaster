{
  "nbformat": 4,
  "nbformat_minor": 0,
  "metadata": {
    "colab": {
      "provenance": []
    },
    "kernelspec": {
      "name": "python3",
      "display_name": "Python 3"
    },
    "language_info": {
      "name": "python"
    }
  },
  "cells": [
    {
      "cell_type": "markdown",
      "source": [
        "# Multistep Forecasting Recursive"
      ],
      "metadata": {
        "id": "TEck_GKIK_fH"
      }
    },
    {
      "cell_type": "markdown",
      "source": [
        "## Import"
      ],
      "metadata": {
        "id": "vh_p3pCTLHZy"
      }
    },
    {
      "cell_type": "code",
      "execution_count": 1,
      "metadata": {
        "id": "NpZqoR30KHzH"
      },
      "outputs": [],
      "source": [
        "import matplotlib.pyplot as plt\n",
        "import numpy as np\n",
        "import pandas as pd\n",
        "\n",
        "from feature_engine.creation import CyclicalFeatures\n",
        "from feature_engine.datetime import DatetimeFeatures\n",
        "from feature_engine.imputation import DropMissingData\n",
        "from feature_engine.selection import DropFeatures\n",
        "from feature_engine.timeseries.forecasting import (\n",
        "    LagFeatures,\n",
        "    WindowFeatures,\n",
        ")\n",
        "\n",
        "from sklearn.linear_model import Lasso\n",
        "from sklearn.metrics import mean_squared_error, r2_score\n",
        "from sklearn.pipeline import Pipeline\n",
        "\n",
        "import xgboost"
      ]
    },
    {
      "cell_type": "markdown",
      "source": [
        "## Load Data"
      ],
      "metadata": {
        "id": "i_UhxKlcLKvp"
      }
    },
    {
      "cell_type": "code",
      "source": [
        "# load dataset\n",
        "data = pd.read_csv(\"portfolio_data.csv\")\n",
        "\n",
        "# rows and columns of the data\n",
        "print(data.shape)\n",
        "\n",
        "# visualise the dataset\n",
        "data.head()"
      ],
      "metadata": {
        "colab": {
          "base_uri": "https://localhost:8080/",
          "height": 224
        },
        "id": "NvmmT7cOLPZB",
        "outputId": "1fd941fc-7dd4-4adf-b4d1-7a621d4ec896"
      },
      "execution_count": 2,
      "outputs": [
        {
          "output_type": "stream",
          "name": "stdout",
          "text": [
            "(1520, 5)\n"
          ]
        },
        {
          "output_type": "execute_result",
          "data": {
            "text/plain": [
              "       Date        AMZN        DPZ         BTC       NFLX\n",
              "0  5/1/2013  248.229996  51.190983  106.250000  30.415714\n",
              "1  5/2/2013  252.550003  51.987320   98.099998  30.641428\n",
              "2  5/3/2013  258.049988  52.446388  112.900002  30.492857\n",
              "3  5/6/2013  255.720001  53.205257  109.599998  30.098572\n",
              "4  5/7/2013  257.730011  54.151505  113.199997  29.464285"
            ],
            "text/html": [
              "\n",
              "  <div id=\"df-1fb2eabd-9a75-4f62-8b9b-dbb60854e1f8\" class=\"colab-df-container\">\n",
              "    <div>\n",
              "<style scoped>\n",
              "    .dataframe tbody tr th:only-of-type {\n",
              "        vertical-align: middle;\n",
              "    }\n",
              "\n",
              "    .dataframe tbody tr th {\n",
              "        vertical-align: top;\n",
              "    }\n",
              "\n",
              "    .dataframe thead th {\n",
              "        text-align: right;\n",
              "    }\n",
              "</style>\n",
              "<table border=\"1\" class=\"dataframe\">\n",
              "  <thead>\n",
              "    <tr style=\"text-align: right;\">\n",
              "      <th></th>\n",
              "      <th>Date</th>\n",
              "      <th>AMZN</th>\n",
              "      <th>DPZ</th>\n",
              "      <th>BTC</th>\n",
              "      <th>NFLX</th>\n",
              "    </tr>\n",
              "  </thead>\n",
              "  <tbody>\n",
              "    <tr>\n",
              "      <th>0</th>\n",
              "      <td>5/1/2013</td>\n",
              "      <td>248.229996</td>\n",
              "      <td>51.190983</td>\n",
              "      <td>106.250000</td>\n",
              "      <td>30.415714</td>\n",
              "    </tr>\n",
              "    <tr>\n",
              "      <th>1</th>\n",
              "      <td>5/2/2013</td>\n",
              "      <td>252.550003</td>\n",
              "      <td>51.987320</td>\n",
              "      <td>98.099998</td>\n",
              "      <td>30.641428</td>\n",
              "    </tr>\n",
              "    <tr>\n",
              "      <th>2</th>\n",
              "      <td>5/3/2013</td>\n",
              "      <td>258.049988</td>\n",
              "      <td>52.446388</td>\n",
              "      <td>112.900002</td>\n",
              "      <td>30.492857</td>\n",
              "    </tr>\n",
              "    <tr>\n",
              "      <th>3</th>\n",
              "      <td>5/6/2013</td>\n",
              "      <td>255.720001</td>\n",
              "      <td>53.205257</td>\n",
              "      <td>109.599998</td>\n",
              "      <td>30.098572</td>\n",
              "    </tr>\n",
              "    <tr>\n",
              "      <th>4</th>\n",
              "      <td>5/7/2013</td>\n",
              "      <td>257.730011</td>\n",
              "      <td>54.151505</td>\n",
              "      <td>113.199997</td>\n",
              "      <td>29.464285</td>\n",
              "    </tr>\n",
              "  </tbody>\n",
              "</table>\n",
              "</div>\n",
              "    <div class=\"colab-df-buttons\">\n",
              "      \n",
              "  <div class=\"colab-df-container\">\n",
              "    <button class=\"colab-df-convert\" onclick=\"convertToInteractive('df-1fb2eabd-9a75-4f62-8b9b-dbb60854e1f8')\"\n",
              "            title=\"Convert this dataframe to an interactive table.\"\n",
              "            style=\"display:none;\">\n",
              "      \n",
              "  <svg xmlns=\"http://www.w3.org/2000/svg\" height=\"24px\" viewBox=\"0 -960 960 960\">\n",
              "    <path d=\"M120-120v-720h720v720H120Zm60-500h600v-160H180v160Zm220 220h160v-160H400v160Zm0 220h160v-160H400v160ZM180-400h160v-160H180v160Zm440 0h160v-160H620v160ZM180-180h160v-160H180v160Zm440 0h160v-160H620v160Z\"/>\n",
              "  </svg>\n",
              "    </button>\n",
              "    \n",
              "  <style>\n",
              "    .colab-df-container {\n",
              "      display:flex;\n",
              "      gap: 12px;\n",
              "    }\n",
              "\n",
              "    .colab-df-convert {\n",
              "      background-color: #E8F0FE;\n",
              "      border: none;\n",
              "      border-radius: 50%;\n",
              "      cursor: pointer;\n",
              "      display: none;\n",
              "      fill: #1967D2;\n",
              "      height: 32px;\n",
              "      padding: 0 0 0 0;\n",
              "      width: 32px;\n",
              "    }\n",
              "\n",
              "    .colab-df-convert:hover {\n",
              "      background-color: #E2EBFA;\n",
              "      box-shadow: 0px 1px 2px rgba(60, 64, 67, 0.3), 0px 1px 3px 1px rgba(60, 64, 67, 0.15);\n",
              "      fill: #174EA6;\n",
              "    }\n",
              "\n",
              "    .colab-df-buttons div {\n",
              "      margin-bottom: 4px;\n",
              "    }\n",
              "\n",
              "    [theme=dark] .colab-df-convert {\n",
              "      background-color: #3B4455;\n",
              "      fill: #D2E3FC;\n",
              "    }\n",
              "\n",
              "    [theme=dark] .colab-df-convert:hover {\n",
              "      background-color: #434B5C;\n",
              "      box-shadow: 0px 1px 3px 1px rgba(0, 0, 0, 0.15);\n",
              "      filter: drop-shadow(0px 1px 2px rgba(0, 0, 0, 0.3));\n",
              "      fill: #FFFFFF;\n",
              "    }\n",
              "  </style>\n",
              "\n",
              "    <script>\n",
              "      const buttonEl =\n",
              "        document.querySelector('#df-1fb2eabd-9a75-4f62-8b9b-dbb60854e1f8 button.colab-df-convert');\n",
              "      buttonEl.style.display =\n",
              "        google.colab.kernel.accessAllowed ? 'block' : 'none';\n",
              "\n",
              "      async function convertToInteractive(key) {\n",
              "        const element = document.querySelector('#df-1fb2eabd-9a75-4f62-8b9b-dbb60854e1f8');\n",
              "        const dataTable =\n",
              "          await google.colab.kernel.invokeFunction('convertToInteractive',\n",
              "                                                    [key], {});\n",
              "        if (!dataTable) return;\n",
              "\n",
              "        const docLinkHtml = 'Like what you see? Visit the ' +\n",
              "          '<a target=\"_blank\" href=https://colab.research.google.com/notebooks/data_table.ipynb>data table notebook</a>'\n",
              "          + ' to learn more about interactive tables.';\n",
              "        element.innerHTML = '';\n",
              "        dataTable['output_type'] = 'display_data';\n",
              "        await google.colab.output.renderOutput(dataTable, element);\n",
              "        const docLink = document.createElement('div');\n",
              "        docLink.innerHTML = docLinkHtml;\n",
              "        element.appendChild(docLink);\n",
              "      }\n",
              "    </script>\n",
              "  </div>\n",
              "  \n",
              "    </div>\n",
              "  </div>\n",
              "  "
            ]
          },
          "metadata": {},
          "execution_count": 2
        }
      ]
    },
    {
      "cell_type": "code",
      "source": [
        "data.Date = pd.to_datetime(data.Date)"
      ],
      "metadata": {
        "id": "Z2-_2c3mLSTU"
      },
      "execution_count": 3,
      "outputs": []
    },
    {
      "cell_type": "code",
      "source": [
        "data = data.set_index(\"Date\")"
      ],
      "metadata": {
        "id": "ZW5QxHO0LuqB"
      },
      "execution_count": 4,
      "outputs": []
    },
    {
      "cell_type": "code",
      "source": [
        "AMZN_df = data[[\"AMZN\"]].rename(columns={\"AMZN\":\"price\"})\n",
        "DPZ_df = data[[\"DPZ\"]].rename(columns={\"DPZ\":\"price\"})\n",
        "BTC_df = data[[\"BTC\"]].rename(columns={\"BTC\":\"price\"})\n",
        "NFLX_df = data[[\"NFLX\"]].rename(columns={\"NFLX\":\"price\"})"
      ],
      "metadata": {
        "id": "_TUM_j6-MV3t"
      },
      "execution_count": 5,
      "outputs": []
    },
    {
      "cell_type": "markdown",
      "source": [
        "## Feature Engineering"
      ],
      "metadata": {
        "id": "yEPWCkoeNctA"
      }
    },
    {
      "cell_type": "code",
      "source": [
        "# Datetime features\n",
        "\n",
        "dtf = DatetimeFeatures(\n",
        "    # the datetime variable\n",
        "    variables=\"index\",\n",
        "\n",
        "    # the features we want to create\n",
        "    features_to_extract=[\n",
        "        \"month\",\n",
        "        \"day_of_week\",\n",
        "        \"day_of_month\",\n",
        "    ],\n",
        ")"
      ],
      "metadata": {
        "id": "40yGBOTfNMBU"
      },
      "execution_count": 6,
      "outputs": []
    },
    {
      "cell_type": "code",
      "source": [
        "# Lag features.\n",
        "\n",
        "lagf = LagFeatures(\n",
        "    variables=[\"price\"],  # the input variables\n",
        "    periods=[1, 5, 21],  # move 1 day, 1 week and 1 month forward\n",
        "    missing_values=\"ignore\",\n",
        ")"
      ],
      "metadata": {
        "id": "OLo7c8w7NkAP"
      },
      "execution_count": 7,
      "outputs": []
    },
    {
      "cell_type": "code",
      "source": [
        "# Window features\n",
        "\n",
        "winf = WindowFeatures(\n",
        "    variables=[\"price\"],  # the input variables\n",
        "    window=[5, 21],  # average of previous week and previous month\n",
        "    freq=\"1D\",  # move 1 day forward\n",
        "    missing_values=\"ignore\",\n",
        ")"
      ],
      "metadata": {
        "id": "dB5a5j5LOP5G"
      },
      "execution_count": 8,
      "outputs": []
    },
    {
      "cell_type": "code",
      "source": [
        "# Periodic features\n",
        "\n",
        "cyclicf = CyclicalFeatures(\n",
        "    # The features we want to transform.\n",
        "    variables=[\"day_of_week\", \"day_of_month\", \"month\"],\n",
        "    # Whether to drop the original features.\n",
        "    drop_original=True,\n",
        ")"
      ],
      "metadata": {
        "id": "H42XA4qcOjud"
      },
      "execution_count": 9,
      "outputs": []
    },
    {
      "cell_type": "code",
      "source": [
        "# Drop missing data\n",
        "\n",
        "imputer = DropMissingData()"
      ],
      "metadata": {
        "id": "inosCUQwPjvE"
      },
      "execution_count": 10,
      "outputs": []
    },
    {
      "cell_type": "code",
      "source": [
        "# Drop original time series\n",
        "\n",
        "drop_ts = DropFeatures(features_to_drop=[\"price\"])"
      ],
      "metadata": {
        "id": "-MG9Sr_EO7yU"
      },
      "execution_count": 11,
      "outputs": []
    },
    {
      "cell_type": "markdown",
      "source": [
        "## Feature engineering pipeline"
      ],
      "metadata": {
        "id": "X_M_W9MyPBN3"
      }
    },
    {
      "cell_type": "code",
      "source": [
        "pipe = Pipeline(\n",
        "    [\n",
        "        (\"datetime_features\", dtf),\n",
        "        (\"lagf\", lagf),\n",
        "        (\"winf\", winf),\n",
        "        (\"Periodic\", cyclicf),\n",
        "        (\"dropna\", imputer),\n",
        "        (\"drop_ts\", drop_ts),\n",
        "    ]\n",
        ")"
      ],
      "metadata": {
        "id": "ZtxdKfMMPCd5"
      },
      "execution_count": 12,
      "outputs": []
    },
    {
      "cell_type": "markdown",
      "source": [
        "# Split data into train and test\n",
        "\n",
        "We will leave the last week of data as hold-out sample to evaluate the performance of the model.\n",
        "\n",
        "we need data about the stock information at least 1 month before the first forecasting point in the test set to create the input features."
      ],
      "metadata": {
        "id": "d8nEJMpKPPp1"
      }
    },
    {
      "cell_type": "code",
      "source": [
        "# Split the data.\n",
        "\n",
        "# input data\n",
        "X_train_AMZN = AMZN_df[AMZN_df.index < \"2019-05-07\"]\n",
        "X_test_AMZN = AMZN_df[AMZN_df.index >= pd.Timestamp(\"2019-05-07\") - pd.DateOffset(days=32)]\n",
        "\n",
        "# target\n",
        "y_train_AMZN = AMZN_df[AMZN_df.index < \"2019-05-07\"][[\"price\"]]\n",
        "y_test_AMZN = AMZN_df[AMZN_df.index >= pd.Timestamp(\"2019-05-07\") - pd.DateOffset(days=32)][[\"price\"]]"
      ],
      "metadata": {
        "id": "Wywxq_8OQGJh"
      },
      "execution_count": 13,
      "outputs": []
    },
    {
      "cell_type": "markdown",
      "source": [
        "## Train pipeline and model\n",
        "\n",
        "Train the engineering steps and the pipeline utilizing the training set."
      ],
      "metadata": {
        "id": "N6ITvoImRhiP"
      }
    },
    {
      "cell_type": "code",
      "source": [
        "# Train the pipeline and create features\n",
        "# for the train set:\n",
        "\n",
        "X_train_t_AMZN = pipe.fit_transform(X_train_AMZN)\n",
        "\n",
        "# Data with input features.\n",
        "X_train_t_AMZN.head()"
      ],
      "metadata": {
        "colab": {
          "base_uri": "https://localhost:8080/",
          "height": 344
        },
        "id": "_yZuS1LyRn31",
        "outputId": "33530d26-7e73-4958-a2ac-9e04bf2ba1b8"
      },
      "execution_count": 14,
      "outputs": [
        {
          "output_type": "execute_result",
          "data": {
            "text/plain": [
              "            price_lag_1  price_lag_5  price_lag_21  price_window_5_mean  \\\n",
              "Date                                                                      \n",
              "2013-05-31   266.829987   261.799988    248.229996           264.637995   \n",
              "2013-06-04   266.880005   267.290009    258.049988           267.146002   \n",
              "2013-06-05   265.700012   265.529999    255.720001           266.828003   \n",
              "2013-06-06   267.170013   266.829987    257.730011           267.156006   \n",
              "2013-06-07   267.829987   269.200012    258.679993           267.356006   \n",
              "\n",
              "            price_window_21_mean  day_of_week_sin  day_of_week_cos  \\\n",
              "Date                                                                 \n",
              "2013-05-31            262.419521    -2.449294e-16     1.000000e+00   \n",
              "2013-06-04            264.100474     1.000000e+00     6.123234e-17   \n",
              "2013-06-05            264.464761     1.224647e-16    -1.000000e+00   \n",
              "2013-06-06            265.010000    -1.000000e+00    -1.836970e-16   \n",
              "2013-06-07            265.490951    -2.449294e-16     1.000000e+00   \n",
              "\n",
              "            day_of_month_sin  day_of_month_cos     month_sin  month_cos  \n",
              "Date                                                                     \n",
              "2013-05-31     -2.449294e-16          1.000000  5.000000e-01  -0.866025  \n",
              "2013-06-04      7.247928e-01          0.688967  1.224647e-16  -1.000000  \n",
              "2013-06-05      8.486443e-01          0.528964  1.224647e-16  -1.000000  \n",
              "2013-06-06      9.377521e-01          0.347305  1.224647e-16  -1.000000  \n",
              "2013-06-07      9.884683e-01          0.151428  1.224647e-16  -1.000000  "
            ],
            "text/html": [
              "\n",
              "  <div id=\"df-72a284ad-3518-4f08-b01d-9bad930a1986\" class=\"colab-df-container\">\n",
              "    <div>\n",
              "<style scoped>\n",
              "    .dataframe tbody tr th:only-of-type {\n",
              "        vertical-align: middle;\n",
              "    }\n",
              "\n",
              "    .dataframe tbody tr th {\n",
              "        vertical-align: top;\n",
              "    }\n",
              "\n",
              "    .dataframe thead th {\n",
              "        text-align: right;\n",
              "    }\n",
              "</style>\n",
              "<table border=\"1\" class=\"dataframe\">\n",
              "  <thead>\n",
              "    <tr style=\"text-align: right;\">\n",
              "      <th></th>\n",
              "      <th>price_lag_1</th>\n",
              "      <th>price_lag_5</th>\n",
              "      <th>price_lag_21</th>\n",
              "      <th>price_window_5_mean</th>\n",
              "      <th>price_window_21_mean</th>\n",
              "      <th>day_of_week_sin</th>\n",
              "      <th>day_of_week_cos</th>\n",
              "      <th>day_of_month_sin</th>\n",
              "      <th>day_of_month_cos</th>\n",
              "      <th>month_sin</th>\n",
              "      <th>month_cos</th>\n",
              "    </tr>\n",
              "    <tr>\n",
              "      <th>Date</th>\n",
              "      <th></th>\n",
              "      <th></th>\n",
              "      <th></th>\n",
              "      <th></th>\n",
              "      <th></th>\n",
              "      <th></th>\n",
              "      <th></th>\n",
              "      <th></th>\n",
              "      <th></th>\n",
              "      <th></th>\n",
              "      <th></th>\n",
              "    </tr>\n",
              "  </thead>\n",
              "  <tbody>\n",
              "    <tr>\n",
              "      <th>2013-05-31</th>\n",
              "      <td>266.829987</td>\n",
              "      <td>261.799988</td>\n",
              "      <td>248.229996</td>\n",
              "      <td>264.637995</td>\n",
              "      <td>262.419521</td>\n",
              "      <td>-2.449294e-16</td>\n",
              "      <td>1.000000e+00</td>\n",
              "      <td>-2.449294e-16</td>\n",
              "      <td>1.000000</td>\n",
              "      <td>5.000000e-01</td>\n",
              "      <td>-0.866025</td>\n",
              "    </tr>\n",
              "    <tr>\n",
              "      <th>2013-06-04</th>\n",
              "      <td>266.880005</td>\n",
              "      <td>267.290009</td>\n",
              "      <td>258.049988</td>\n",
              "      <td>267.146002</td>\n",
              "      <td>264.100474</td>\n",
              "      <td>1.000000e+00</td>\n",
              "      <td>6.123234e-17</td>\n",
              "      <td>7.247928e-01</td>\n",
              "      <td>0.688967</td>\n",
              "      <td>1.224647e-16</td>\n",
              "      <td>-1.000000</td>\n",
              "    </tr>\n",
              "    <tr>\n",
              "      <th>2013-06-05</th>\n",
              "      <td>265.700012</td>\n",
              "      <td>265.529999</td>\n",
              "      <td>255.720001</td>\n",
              "      <td>266.828003</td>\n",
              "      <td>264.464761</td>\n",
              "      <td>1.224647e-16</td>\n",
              "      <td>-1.000000e+00</td>\n",
              "      <td>8.486443e-01</td>\n",
              "      <td>0.528964</td>\n",
              "      <td>1.224647e-16</td>\n",
              "      <td>-1.000000</td>\n",
              "    </tr>\n",
              "    <tr>\n",
              "      <th>2013-06-06</th>\n",
              "      <td>267.170013</td>\n",
              "      <td>266.829987</td>\n",
              "      <td>257.730011</td>\n",
              "      <td>267.156006</td>\n",
              "      <td>265.010000</td>\n",
              "      <td>-1.000000e+00</td>\n",
              "      <td>-1.836970e-16</td>\n",
              "      <td>9.377521e-01</td>\n",
              "      <td>0.347305</td>\n",
              "      <td>1.224647e-16</td>\n",
              "      <td>-1.000000</td>\n",
              "    </tr>\n",
              "    <tr>\n",
              "      <th>2013-06-07</th>\n",
              "      <td>267.829987</td>\n",
              "      <td>269.200012</td>\n",
              "      <td>258.679993</td>\n",
              "      <td>267.356006</td>\n",
              "      <td>265.490951</td>\n",
              "      <td>-2.449294e-16</td>\n",
              "      <td>1.000000e+00</td>\n",
              "      <td>9.884683e-01</td>\n",
              "      <td>0.151428</td>\n",
              "      <td>1.224647e-16</td>\n",
              "      <td>-1.000000</td>\n",
              "    </tr>\n",
              "  </tbody>\n",
              "</table>\n",
              "</div>\n",
              "    <div class=\"colab-df-buttons\">\n",
              "      \n",
              "  <div class=\"colab-df-container\">\n",
              "    <button class=\"colab-df-convert\" onclick=\"convertToInteractive('df-72a284ad-3518-4f08-b01d-9bad930a1986')\"\n",
              "            title=\"Convert this dataframe to an interactive table.\"\n",
              "            style=\"display:none;\">\n",
              "      \n",
              "  <svg xmlns=\"http://www.w3.org/2000/svg\" height=\"24px\" viewBox=\"0 -960 960 960\">\n",
              "    <path d=\"M120-120v-720h720v720H120Zm60-500h600v-160H180v160Zm220 220h160v-160H400v160Zm0 220h160v-160H400v160ZM180-400h160v-160H180v160Zm440 0h160v-160H620v160ZM180-180h160v-160H180v160Zm440 0h160v-160H620v160Z\"/>\n",
              "  </svg>\n",
              "    </button>\n",
              "    \n",
              "  <style>\n",
              "    .colab-df-container {\n",
              "      display:flex;\n",
              "      gap: 12px;\n",
              "    }\n",
              "\n",
              "    .colab-df-convert {\n",
              "      background-color: #E8F0FE;\n",
              "      border: none;\n",
              "      border-radius: 50%;\n",
              "      cursor: pointer;\n",
              "      display: none;\n",
              "      fill: #1967D2;\n",
              "      height: 32px;\n",
              "      padding: 0 0 0 0;\n",
              "      width: 32px;\n",
              "    }\n",
              "\n",
              "    .colab-df-convert:hover {\n",
              "      background-color: #E2EBFA;\n",
              "      box-shadow: 0px 1px 2px rgba(60, 64, 67, 0.3), 0px 1px 3px 1px rgba(60, 64, 67, 0.15);\n",
              "      fill: #174EA6;\n",
              "    }\n",
              "\n",
              "    .colab-df-buttons div {\n",
              "      margin-bottom: 4px;\n",
              "    }\n",
              "\n",
              "    [theme=dark] .colab-df-convert {\n",
              "      background-color: #3B4455;\n",
              "      fill: #D2E3FC;\n",
              "    }\n",
              "\n",
              "    [theme=dark] .colab-df-convert:hover {\n",
              "      background-color: #434B5C;\n",
              "      box-shadow: 0px 1px 3px 1px rgba(0, 0, 0, 0.15);\n",
              "      filter: drop-shadow(0px 1px 2px rgba(0, 0, 0, 0.3));\n",
              "      fill: #FFFFFF;\n",
              "    }\n",
              "  </style>\n",
              "\n",
              "    <script>\n",
              "      const buttonEl =\n",
              "        document.querySelector('#df-72a284ad-3518-4f08-b01d-9bad930a1986 button.colab-df-convert');\n",
              "      buttonEl.style.display =\n",
              "        google.colab.kernel.accessAllowed ? 'block' : 'none';\n",
              "\n",
              "      async function convertToInteractive(key) {\n",
              "        const element = document.querySelector('#df-72a284ad-3518-4f08-b01d-9bad930a1986');\n",
              "        const dataTable =\n",
              "          await google.colab.kernel.invokeFunction('convertToInteractive',\n",
              "                                                    [key], {});\n",
              "        if (!dataTable) return;\n",
              "\n",
              "        const docLinkHtml = 'Like what you see? Visit the ' +\n",
              "          '<a target=\"_blank\" href=https://colab.research.google.com/notebooks/data_table.ipynb>data table notebook</a>'\n",
              "          + ' to learn more about interactive tables.';\n",
              "        element.innerHTML = '';\n",
              "        dataTable['output_type'] = 'display_data';\n",
              "        await google.colab.output.renderOutput(dataTable, element);\n",
              "        const docLink = document.createElement('div');\n",
              "        docLink.innerHTML = docLinkHtml;\n",
              "        element.appendChild(docLink);\n",
              "      }\n",
              "    </script>\n",
              "  </div>\n",
              "  \n",
              "    </div>\n",
              "  </div>\n",
              "  "
            ]
          },
          "metadata": {},
          "execution_count": 14
        }
      ]
    },
    {
      "cell_type": "code",
      "source": [
        "# The transformation pipeline removed observations\n",
        "# with missing data, so its necesary to remove those\n",
        "# observations from the target variable as well.\n",
        "\n",
        "print(y_train_AMZN.shape)\n",
        "\n",
        "y_train_t_AMZN = y_train_AMZN.loc[X_train_t_AMZN.index]\n",
        "\n",
        "print(y_train_t_AMZN.shape)"
      ],
      "metadata": {
        "colab": {
          "base_uri": "https://localhost:8080/"
        },
        "id": "Ap0TItpGhuOW",
        "outputId": "6609de3d-9fee-4d9e-ac14-46ecb66d312b"
      },
      "execution_count": 15,
      "outputs": [
        {
          "output_type": "stream",
          "name": "stdout",
          "text": [
            "(1514, 1)\n",
            "(1167, 1)\n"
          ]
        }
      ]
    },
    {
      "cell_type": "code",
      "source": [
        "# Lasso regression\n",
        "\n",
        "lasso_AMZN = Lasso(random_state=0)\n",
        "\n",
        "# Train the model\n",
        "\n",
        "lasso_AMZN.fit(X_train_t_AMZN, y_train_t_AMZN)"
      ],
      "metadata": {
        "colab": {
          "base_uri": "https://localhost:8080/",
          "height": 130
        },
        "id": "ZHzTQsy6iJsB",
        "outputId": "9193c0bb-14a9-4396-e2ed-b463cb59cacb"
      },
      "execution_count": 16,
      "outputs": [
        {
          "output_type": "stream",
          "name": "stderr",
          "text": [
            "/usr/local/lib/python3.10/dist-packages/sklearn/linear_model/_coordinate_descent.py:631: ConvergenceWarning: Objective did not converge. You might want to increase the number of iterations, check the scale of the features or consider increasing regularisation. Duality gap: 1.631e+05, tolerance: 3.085e+04\n",
            "  model = cd_fast.enet_coordinate_descent(\n"
          ]
        },
        {
          "output_type": "execute_result",
          "data": {
            "text/plain": [
              "Lasso(random_state=0)"
            ],
            "text/html": [
              "<style>#sk-container-id-1 {color: black;background-color: white;}#sk-container-id-1 pre{padding: 0;}#sk-container-id-1 div.sk-toggleable {background-color: white;}#sk-container-id-1 label.sk-toggleable__label {cursor: pointer;display: block;width: 100%;margin-bottom: 0;padding: 0.3em;box-sizing: border-box;text-align: center;}#sk-container-id-1 label.sk-toggleable__label-arrow:before {content: \"▸\";float: left;margin-right: 0.25em;color: #696969;}#sk-container-id-1 label.sk-toggleable__label-arrow:hover:before {color: black;}#sk-container-id-1 div.sk-estimator:hover label.sk-toggleable__label-arrow:before {color: black;}#sk-container-id-1 div.sk-toggleable__content {max-height: 0;max-width: 0;overflow: hidden;text-align: left;background-color: #f0f8ff;}#sk-container-id-1 div.sk-toggleable__content pre {margin: 0.2em;color: black;border-radius: 0.25em;background-color: #f0f8ff;}#sk-container-id-1 input.sk-toggleable__control:checked~div.sk-toggleable__content {max-height: 200px;max-width: 100%;overflow: auto;}#sk-container-id-1 input.sk-toggleable__control:checked~label.sk-toggleable__label-arrow:before {content: \"▾\";}#sk-container-id-1 div.sk-estimator input.sk-toggleable__control:checked~label.sk-toggleable__label {background-color: #d4ebff;}#sk-container-id-1 div.sk-label input.sk-toggleable__control:checked~label.sk-toggleable__label {background-color: #d4ebff;}#sk-container-id-1 input.sk-hidden--visually {border: 0;clip: rect(1px 1px 1px 1px);clip: rect(1px, 1px, 1px, 1px);height: 1px;margin: -1px;overflow: hidden;padding: 0;position: absolute;width: 1px;}#sk-container-id-1 div.sk-estimator {font-family: monospace;background-color: #f0f8ff;border: 1px dotted black;border-radius: 0.25em;box-sizing: border-box;margin-bottom: 0.5em;}#sk-container-id-1 div.sk-estimator:hover {background-color: #d4ebff;}#sk-container-id-1 div.sk-parallel-item::after {content: \"\";width: 100%;border-bottom: 1px solid gray;flex-grow: 1;}#sk-container-id-1 div.sk-label:hover label.sk-toggleable__label {background-color: #d4ebff;}#sk-container-id-1 div.sk-serial::before {content: \"\";position: absolute;border-left: 1px solid gray;box-sizing: border-box;top: 0;bottom: 0;left: 50%;z-index: 0;}#sk-container-id-1 div.sk-serial {display: flex;flex-direction: column;align-items: center;background-color: white;padding-right: 0.2em;padding-left: 0.2em;position: relative;}#sk-container-id-1 div.sk-item {position: relative;z-index: 1;}#sk-container-id-1 div.sk-parallel {display: flex;align-items: stretch;justify-content: center;background-color: white;position: relative;}#sk-container-id-1 div.sk-item::before, #sk-container-id-1 div.sk-parallel-item::before {content: \"\";position: absolute;border-left: 1px solid gray;box-sizing: border-box;top: 0;bottom: 0;left: 50%;z-index: -1;}#sk-container-id-1 div.sk-parallel-item {display: flex;flex-direction: column;z-index: 1;position: relative;background-color: white;}#sk-container-id-1 div.sk-parallel-item:first-child::after {align-self: flex-end;width: 50%;}#sk-container-id-1 div.sk-parallel-item:last-child::after {align-self: flex-start;width: 50%;}#sk-container-id-1 div.sk-parallel-item:only-child::after {width: 0;}#sk-container-id-1 div.sk-dashed-wrapped {border: 1px dashed gray;margin: 0 0.4em 0.5em 0.4em;box-sizing: border-box;padding-bottom: 0.4em;background-color: white;}#sk-container-id-1 div.sk-label label {font-family: monospace;font-weight: bold;display: inline-block;line-height: 1.2em;}#sk-container-id-1 div.sk-label-container {text-align: center;}#sk-container-id-1 div.sk-container {/* jupyter's `normalize.less` sets `[hidden] { display: none; }` but bootstrap.min.css set `[hidden] { display: none !important; }` so we also need the `!important` here to be able to override the default hidden behavior on the sphinx rendered scikit-learn.org. See: https://github.com/scikit-learn/scikit-learn/issues/21755 */display: inline-block !important;position: relative;}#sk-container-id-1 div.sk-text-repr-fallback {display: none;}</style><div id=\"sk-container-id-1\" class=\"sk-top-container\"><div class=\"sk-text-repr-fallback\"><pre>Lasso(random_state=0)</pre><b>In a Jupyter environment, please rerun this cell to show the HTML representation or trust the notebook. <br />On GitHub, the HTML representation is unable to render, please try loading this page with nbviewer.org.</b></div><div class=\"sk-container\" hidden><div class=\"sk-item\"><div class=\"sk-estimator sk-toggleable\"><input class=\"sk-toggleable__control sk-hidden--visually\" id=\"sk-estimator-id-1\" type=\"checkbox\" checked><label for=\"sk-estimator-id-1\" class=\"sk-toggleable__label sk-toggleable__label-arrow\">Lasso</label><div class=\"sk-toggleable__content\"><pre>Lasso(random_state=0)</pre></div></div></div></div></div>"
            ]
          },
          "metadata": {},
          "execution_count": 16
        }
      ]
    },
    {
      "cell_type": "markdown",
      "source": [
        "# Forecasting 5 days forward - step by step\n",
        "\n",
        "First, obtain a forecast for the first 5 days in the test set."
      ],
      "metadata": {
        "id": "ykEQunnjicq9"
      }
    },
    {
      "cell_type": "code",
      "source": [
        "# The first day of forecast.\n",
        "forecast_point = pd.Timestamp(\"2019-05-07\")\n",
        "\n",
        "# The forecasting horizon (5 days ahead)\n",
        "forecast_end = forecast_point + pd.offsets.Day(7)\n",
        "\n",
        "# The timestamps at which we want to predict\n",
        "\n",
        "index = pd.date_range(\n",
        "    start=forecast_point,\n",
        "    end=forecast_end,\n",
        "    freq=\"1D\",\n",
        ")\n",
        "\n",
        "# the forecasting horizon\n",
        "f_horizon = pd.DataFrame(columns=[\"price\"], index=index)\n",
        "\n",
        "f_horizon"
      ],
      "metadata": {
        "colab": {
          "base_uri": "https://localhost:8080/",
          "height": 300
        },
        "id": "WpgnPAR2e0Qj",
        "outputId": "4c90a976-f361-4a24-c118-257a2ae7816d"
      },
      "execution_count": 17,
      "outputs": [
        {
          "output_type": "execute_result",
          "data": {
            "text/plain": [
              "           price\n",
              "2019-05-07   NaN\n",
              "2019-05-08   NaN\n",
              "2019-05-09   NaN\n",
              "2019-05-10   NaN\n",
              "2019-05-11   NaN\n",
              "2019-05-12   NaN\n",
              "2019-05-13   NaN\n",
              "2019-05-14   NaN"
            ],
            "text/html": [
              "\n",
              "  <div id=\"df-eefd6895-3f3b-49b7-9d15-3927837b6fab\" class=\"colab-df-container\">\n",
              "    <div>\n",
              "<style scoped>\n",
              "    .dataframe tbody tr th:only-of-type {\n",
              "        vertical-align: middle;\n",
              "    }\n",
              "\n",
              "    .dataframe tbody tr th {\n",
              "        vertical-align: top;\n",
              "    }\n",
              "\n",
              "    .dataframe thead th {\n",
              "        text-align: right;\n",
              "    }\n",
              "</style>\n",
              "<table border=\"1\" class=\"dataframe\">\n",
              "  <thead>\n",
              "    <tr style=\"text-align: right;\">\n",
              "      <th></th>\n",
              "      <th>price</th>\n",
              "    </tr>\n",
              "  </thead>\n",
              "  <tbody>\n",
              "    <tr>\n",
              "      <th>2019-05-07</th>\n",
              "      <td>NaN</td>\n",
              "    </tr>\n",
              "    <tr>\n",
              "      <th>2019-05-08</th>\n",
              "      <td>NaN</td>\n",
              "    </tr>\n",
              "    <tr>\n",
              "      <th>2019-05-09</th>\n",
              "      <td>NaN</td>\n",
              "    </tr>\n",
              "    <tr>\n",
              "      <th>2019-05-10</th>\n",
              "      <td>NaN</td>\n",
              "    </tr>\n",
              "    <tr>\n",
              "      <th>2019-05-11</th>\n",
              "      <td>NaN</td>\n",
              "    </tr>\n",
              "    <tr>\n",
              "      <th>2019-05-12</th>\n",
              "      <td>NaN</td>\n",
              "    </tr>\n",
              "    <tr>\n",
              "      <th>2019-05-13</th>\n",
              "      <td>NaN</td>\n",
              "    </tr>\n",
              "    <tr>\n",
              "      <th>2019-05-14</th>\n",
              "      <td>NaN</td>\n",
              "    </tr>\n",
              "  </tbody>\n",
              "</table>\n",
              "</div>\n",
              "    <div class=\"colab-df-buttons\">\n",
              "      \n",
              "  <div class=\"colab-df-container\">\n",
              "    <button class=\"colab-df-convert\" onclick=\"convertToInteractive('df-eefd6895-3f3b-49b7-9d15-3927837b6fab')\"\n",
              "            title=\"Convert this dataframe to an interactive table.\"\n",
              "            style=\"display:none;\">\n",
              "      \n",
              "  <svg xmlns=\"http://www.w3.org/2000/svg\" height=\"24px\" viewBox=\"0 -960 960 960\">\n",
              "    <path d=\"M120-120v-720h720v720H120Zm60-500h600v-160H180v160Zm220 220h160v-160H400v160Zm0 220h160v-160H400v160ZM180-400h160v-160H180v160Zm440 0h160v-160H620v160ZM180-180h160v-160H180v160Zm440 0h160v-160H620v160Z\"/>\n",
              "  </svg>\n",
              "    </button>\n",
              "    \n",
              "  <style>\n",
              "    .colab-df-container {\n",
              "      display:flex;\n",
              "      gap: 12px;\n",
              "    }\n",
              "\n",
              "    .colab-df-convert {\n",
              "      background-color: #E8F0FE;\n",
              "      border: none;\n",
              "      border-radius: 50%;\n",
              "      cursor: pointer;\n",
              "      display: none;\n",
              "      fill: #1967D2;\n",
              "      height: 32px;\n",
              "      padding: 0 0 0 0;\n",
              "      width: 32px;\n",
              "    }\n",
              "\n",
              "    .colab-df-convert:hover {\n",
              "      background-color: #E2EBFA;\n",
              "      box-shadow: 0px 1px 2px rgba(60, 64, 67, 0.3), 0px 1px 3px 1px rgba(60, 64, 67, 0.15);\n",
              "      fill: #174EA6;\n",
              "    }\n",
              "\n",
              "    .colab-df-buttons div {\n",
              "      margin-bottom: 4px;\n",
              "    }\n",
              "\n",
              "    [theme=dark] .colab-df-convert {\n",
              "      background-color: #3B4455;\n",
              "      fill: #D2E3FC;\n",
              "    }\n",
              "\n",
              "    [theme=dark] .colab-df-convert:hover {\n",
              "      background-color: #434B5C;\n",
              "      box-shadow: 0px 1px 3px 1px rgba(0, 0, 0, 0.15);\n",
              "      filter: drop-shadow(0px 1px 2px rgba(0, 0, 0, 0.3));\n",
              "      fill: #FFFFFF;\n",
              "    }\n",
              "  </style>\n",
              "\n",
              "    <script>\n",
              "      const buttonEl =\n",
              "        document.querySelector('#df-eefd6895-3f3b-49b7-9d15-3927837b6fab button.colab-df-convert');\n",
              "      buttonEl.style.display =\n",
              "        google.colab.kernel.accessAllowed ? 'block' : 'none';\n",
              "\n",
              "      async function convertToInteractive(key) {\n",
              "        const element = document.querySelector('#df-eefd6895-3f3b-49b7-9d15-3927837b6fab');\n",
              "        const dataTable =\n",
              "          await google.colab.kernel.invokeFunction('convertToInteractive',\n",
              "                                                    [key], {});\n",
              "        if (!dataTable) return;\n",
              "\n",
              "        const docLinkHtml = 'Like what you see? Visit the ' +\n",
              "          '<a target=\"_blank\" href=https://colab.research.google.com/notebooks/data_table.ipynb>data table notebook</a>'\n",
              "          + ' to learn more about interactive tables.';\n",
              "        element.innerHTML = '';\n",
              "        dataTable['output_type'] = 'display_data';\n",
              "        await google.colab.output.renderOutput(dataTable, element);\n",
              "        const docLink = document.createElement('div');\n",
              "        docLink.innerHTML = docLinkHtml;\n",
              "        element.appendChild(docLink);\n",
              "      }\n",
              "    </script>\n",
              "  </div>\n",
              "  \n",
              "    </div>\n",
              "  </div>\n",
              "  "
            ]
          },
          "metadata": {},
          "execution_count": 17
        }
      ]
    },
    {
      "cell_type": "code",
      "source": [
        "# Obtain the input data for the predictions\n",
        "\n",
        "# The first day of forecast.\n",
        "forecast_point = pd.Timestamp(\"2019-05-07\")\n",
        "\n",
        "# 1 month before the first forecasting point\n",
        "start_point = forecast_point - pd.DateOffset(days=32)\n",
        "\n",
        "# Create input data to obtain the first prediction value.\n",
        "input_data = X_test_AMZN[(X_test_AMZN.index >= start_point) & (X_test_AMZN.index < forecast_point)]\n",
        "input_data.loc[forecast_point] = np.nan"
      ],
      "metadata": {
        "colab": {
          "base_uri": "https://localhost:8080/"
        },
        "id": "sqEjl1KnfR3p",
        "outputId": "2e4f72e7-5cbf-47be-ebe9-e048e2b94b54"
      },
      "execution_count": 18,
      "outputs": [
        {
          "output_type": "stream",
          "name": "stderr",
          "text": [
            "<ipython-input-18-5aacbb9a315b>:11: SettingWithCopyWarning: \n",
            "A value is trying to be set on a copy of a slice from a DataFrame\n",
            "\n",
            "See the caveats in the documentation: https://pandas.pydata.org/pandas-docs/stable/user_guide/indexing.html#returning-a-view-versus-a-copy\n",
            "  input_data.loc[forecast_point] = np.nan\n"
          ]
        }
      ]
    },
    {
      "cell_type": "code",
      "source": [
        "# Let's obtain the first prediction.\n",
        "\n",
        "pred = lasso_AMZN.predict(pipe.transform(input_data))[0]"
      ],
      "metadata": {
        "id": "VVTISIAufkbn"
      },
      "execution_count": 19,
      "outputs": []
    },
    {
      "cell_type": "code",
      "source": [
        "# Add the prediction to the horizon\n",
        "# and to the input data\n",
        "\n",
        "f_horizon.loc[forecast_point] = pred\n",
        "input_data.loc[forecast_point] = pred"
      ],
      "metadata": {
        "colab": {
          "base_uri": "https://localhost:8080/"
        },
        "id": "6YaPHMSefuZS",
        "outputId": "c4ae467a-5fe0-4c35-d20a-aa744afc18fe"
      },
      "execution_count": 20,
      "outputs": [
        {
          "output_type": "stream",
          "name": "stderr",
          "text": [
            "<ipython-input-20-bfb1073e7b81>:5: SettingWithCopyWarning: \n",
            "A value is trying to be set on a copy of a slice from a DataFrame\n",
            "\n",
            "See the caveats in the documentation: https://pandas.pydata.org/pandas-docs/stable/user_guide/indexing.html#returning-a-view-versus-a-copy\n",
            "  input_data.loc[forecast_point] = pred\n"
          ]
        }
      ]
    },
    {
      "cell_type": "code",
      "source": [
        "# And we repeat the process 23 times:\n",
        "\n",
        "for i in range(7):\n",
        "\n",
        "    # Re-slice the input data\n",
        "    start_point = start_point + pd.DateOffset(days=1)\n",
        "    forecast_point = forecast_point + pd.DateOffset(days=1)\n",
        "\n",
        "    input_data = input_data[(input_data.index >= start_point)]\n",
        "    input_data.loc[forecast_point] = np.nan\n",
        "\n",
        "    # Obtain the prediction\n",
        "    pred = lasso_AMZN.predict(pipe.transform(input_data))\n",
        "\n",
        "    # Add prediction to horizon.\n",
        "    f_horizon.loc[forecast_point] = pred[-1]\n",
        "    input_data.loc[forecast_point] = pred[-1]\n",
        "\n",
        "f_horizon"
      ],
      "metadata": {
        "colab": {
          "base_uri": "https://localhost:8080/",
          "height": 300
        },
        "id": "MY7V77Tofw_P",
        "outputId": "12b53f8e-245f-4d01-b93b-a499c2dd0bd2"
      },
      "execution_count": 21,
      "outputs": [
        {
          "output_type": "execute_result",
          "data": {
            "text/plain": [
              "                  price\n",
              "2019-05-07  1951.086392\n",
              "2019-05-08  1951.122642\n",
              "2019-05-09  1951.056854\n",
              "2019-05-10  1953.571108\n",
              "2019-05-11  1955.505254\n",
              "2019-05-12  1957.423897\n",
              "2019-05-13  1959.301708\n",
              "2019-05-14  1961.058127"
            ],
            "text/html": [
              "\n",
              "  <div id=\"df-681df0c0-16ac-4784-be3b-c903c1859bd8\" class=\"colab-df-container\">\n",
              "    <div>\n",
              "<style scoped>\n",
              "    .dataframe tbody tr th:only-of-type {\n",
              "        vertical-align: middle;\n",
              "    }\n",
              "\n",
              "    .dataframe tbody tr th {\n",
              "        vertical-align: top;\n",
              "    }\n",
              "\n",
              "    .dataframe thead th {\n",
              "        text-align: right;\n",
              "    }\n",
              "</style>\n",
              "<table border=\"1\" class=\"dataframe\">\n",
              "  <thead>\n",
              "    <tr style=\"text-align: right;\">\n",
              "      <th></th>\n",
              "      <th>price</th>\n",
              "    </tr>\n",
              "  </thead>\n",
              "  <tbody>\n",
              "    <tr>\n",
              "      <th>2019-05-07</th>\n",
              "      <td>1951.086392</td>\n",
              "    </tr>\n",
              "    <tr>\n",
              "      <th>2019-05-08</th>\n",
              "      <td>1951.122642</td>\n",
              "    </tr>\n",
              "    <tr>\n",
              "      <th>2019-05-09</th>\n",
              "      <td>1951.056854</td>\n",
              "    </tr>\n",
              "    <tr>\n",
              "      <th>2019-05-10</th>\n",
              "      <td>1953.571108</td>\n",
              "    </tr>\n",
              "    <tr>\n",
              "      <th>2019-05-11</th>\n",
              "      <td>1955.505254</td>\n",
              "    </tr>\n",
              "    <tr>\n",
              "      <th>2019-05-12</th>\n",
              "      <td>1957.423897</td>\n",
              "    </tr>\n",
              "    <tr>\n",
              "      <th>2019-05-13</th>\n",
              "      <td>1959.301708</td>\n",
              "    </tr>\n",
              "    <tr>\n",
              "      <th>2019-05-14</th>\n",
              "      <td>1961.058127</td>\n",
              "    </tr>\n",
              "  </tbody>\n",
              "</table>\n",
              "</div>\n",
              "    <div class=\"colab-df-buttons\">\n",
              "      \n",
              "  <div class=\"colab-df-container\">\n",
              "    <button class=\"colab-df-convert\" onclick=\"convertToInteractive('df-681df0c0-16ac-4784-be3b-c903c1859bd8')\"\n",
              "            title=\"Convert this dataframe to an interactive table.\"\n",
              "            style=\"display:none;\">\n",
              "      \n",
              "  <svg xmlns=\"http://www.w3.org/2000/svg\" height=\"24px\" viewBox=\"0 -960 960 960\">\n",
              "    <path d=\"M120-120v-720h720v720H120Zm60-500h600v-160H180v160Zm220 220h160v-160H400v160Zm0 220h160v-160H400v160ZM180-400h160v-160H180v160Zm440 0h160v-160H620v160ZM180-180h160v-160H180v160Zm440 0h160v-160H620v160Z\"/>\n",
              "  </svg>\n",
              "    </button>\n",
              "    \n",
              "  <style>\n",
              "    .colab-df-container {\n",
              "      display:flex;\n",
              "      gap: 12px;\n",
              "    }\n",
              "\n",
              "    .colab-df-convert {\n",
              "      background-color: #E8F0FE;\n",
              "      border: none;\n",
              "      border-radius: 50%;\n",
              "      cursor: pointer;\n",
              "      display: none;\n",
              "      fill: #1967D2;\n",
              "      height: 32px;\n",
              "      padding: 0 0 0 0;\n",
              "      width: 32px;\n",
              "    }\n",
              "\n",
              "    .colab-df-convert:hover {\n",
              "      background-color: #E2EBFA;\n",
              "      box-shadow: 0px 1px 2px rgba(60, 64, 67, 0.3), 0px 1px 3px 1px rgba(60, 64, 67, 0.15);\n",
              "      fill: #174EA6;\n",
              "    }\n",
              "\n",
              "    .colab-df-buttons div {\n",
              "      margin-bottom: 4px;\n",
              "    }\n",
              "\n",
              "    [theme=dark] .colab-df-convert {\n",
              "      background-color: #3B4455;\n",
              "      fill: #D2E3FC;\n",
              "    }\n",
              "\n",
              "    [theme=dark] .colab-df-convert:hover {\n",
              "      background-color: #434B5C;\n",
              "      box-shadow: 0px 1px 3px 1px rgba(0, 0, 0, 0.15);\n",
              "      filter: drop-shadow(0px 1px 2px rgba(0, 0, 0, 0.3));\n",
              "      fill: #FFFFFF;\n",
              "    }\n",
              "  </style>\n",
              "\n",
              "    <script>\n",
              "      const buttonEl =\n",
              "        document.querySelector('#df-681df0c0-16ac-4784-be3b-c903c1859bd8 button.colab-df-convert');\n",
              "      buttonEl.style.display =\n",
              "        google.colab.kernel.accessAllowed ? 'block' : 'none';\n",
              "\n",
              "      async function convertToInteractive(key) {\n",
              "        const element = document.querySelector('#df-681df0c0-16ac-4784-be3b-c903c1859bd8');\n",
              "        const dataTable =\n",
              "          await google.colab.kernel.invokeFunction('convertToInteractive',\n",
              "                                                    [key], {});\n",
              "        if (!dataTable) return;\n",
              "\n",
              "        const docLinkHtml = 'Like what you see? Visit the ' +\n",
              "          '<a target=\"_blank\" href=https://colab.research.google.com/notebooks/data_table.ipynb>data table notebook</a>'\n",
              "          + ' to learn more about interactive tables.';\n",
              "        element.innerHTML = '';\n",
              "        dataTable['output_type'] = 'display_data';\n",
              "        await google.colab.output.renderOutput(dataTable, element);\n",
              "        const docLink = document.createElement('div');\n",
              "        docLink.innerHTML = docLinkHtml;\n",
              "        element.appendChild(docLink);\n",
              "      }\n",
              "    </script>\n",
              "  </div>\n",
              "  \n",
              "    </div>\n",
              "  </div>\n",
              "  "
            ]
          },
          "metadata": {},
          "execution_count": 21
        }
      ]
    },
    {
      "cell_type": "code",
      "source": [
        "# We can plot our predictions vs. the truth, which is\n",
        "# the stock price in the test set.\n",
        "\n",
        "tmp = pd.DataFrame(f_horizon[\"price\"]).join(\n",
        "    X_test_AMZN[\"price\"], lsuffix=\"_left\", rsuffix=\"_right\")\n",
        "\n",
        "tmp.columns = [\"predicted\", \"actual\"]\n",
        "\n",
        "tmp = tmp.dropna()\n",
        "\n",
        "tmp"
      ],
      "metadata": {
        "colab": {
          "base_uri": "https://localhost:8080/",
          "height": 237
        },
        "id": "5Qnowi-ViFMv",
        "outputId": "537da329-8525-4e41-85fd-7416a39c7487"
      },
      "execution_count": 22,
      "outputs": [
        {
          "output_type": "execute_result",
          "data": {
            "text/plain": [
              "              predicted       actual\n",
              "2019-05-07  1951.086392  1921.000000\n",
              "2019-05-08  1951.122642  1917.770020\n",
              "2019-05-09  1951.056854  1899.869995\n",
              "2019-05-10  1953.571108  1889.979980\n",
              "2019-05-13  1959.301708  1822.680054\n",
              "2019-05-14  1961.058127  1840.119995"
            ],
            "text/html": [
              "\n",
              "  <div id=\"df-ae578454-4b35-42ea-9caf-3368e27ed008\" class=\"colab-df-container\">\n",
              "    <div>\n",
              "<style scoped>\n",
              "    .dataframe tbody tr th:only-of-type {\n",
              "        vertical-align: middle;\n",
              "    }\n",
              "\n",
              "    .dataframe tbody tr th {\n",
              "        vertical-align: top;\n",
              "    }\n",
              "\n",
              "    .dataframe thead th {\n",
              "        text-align: right;\n",
              "    }\n",
              "</style>\n",
              "<table border=\"1\" class=\"dataframe\">\n",
              "  <thead>\n",
              "    <tr style=\"text-align: right;\">\n",
              "      <th></th>\n",
              "      <th>predicted</th>\n",
              "      <th>actual</th>\n",
              "    </tr>\n",
              "  </thead>\n",
              "  <tbody>\n",
              "    <tr>\n",
              "      <th>2019-05-07</th>\n",
              "      <td>1951.086392</td>\n",
              "      <td>1921.000000</td>\n",
              "    </tr>\n",
              "    <tr>\n",
              "      <th>2019-05-08</th>\n",
              "      <td>1951.122642</td>\n",
              "      <td>1917.770020</td>\n",
              "    </tr>\n",
              "    <tr>\n",
              "      <th>2019-05-09</th>\n",
              "      <td>1951.056854</td>\n",
              "      <td>1899.869995</td>\n",
              "    </tr>\n",
              "    <tr>\n",
              "      <th>2019-05-10</th>\n",
              "      <td>1953.571108</td>\n",
              "      <td>1889.979980</td>\n",
              "    </tr>\n",
              "    <tr>\n",
              "      <th>2019-05-13</th>\n",
              "      <td>1959.301708</td>\n",
              "      <td>1822.680054</td>\n",
              "    </tr>\n",
              "    <tr>\n",
              "      <th>2019-05-14</th>\n",
              "      <td>1961.058127</td>\n",
              "      <td>1840.119995</td>\n",
              "    </tr>\n",
              "  </tbody>\n",
              "</table>\n",
              "</div>\n",
              "    <div class=\"colab-df-buttons\">\n",
              "      \n",
              "  <div class=\"colab-df-container\">\n",
              "    <button class=\"colab-df-convert\" onclick=\"convertToInteractive('df-ae578454-4b35-42ea-9caf-3368e27ed008')\"\n",
              "            title=\"Convert this dataframe to an interactive table.\"\n",
              "            style=\"display:none;\">\n",
              "      \n",
              "  <svg xmlns=\"http://www.w3.org/2000/svg\" height=\"24px\" viewBox=\"0 -960 960 960\">\n",
              "    <path d=\"M120-120v-720h720v720H120Zm60-500h600v-160H180v160Zm220 220h160v-160H400v160Zm0 220h160v-160H400v160ZM180-400h160v-160H180v160Zm440 0h160v-160H620v160ZM180-180h160v-160H180v160Zm440 0h160v-160H620v160Z\"/>\n",
              "  </svg>\n",
              "    </button>\n",
              "    \n",
              "  <style>\n",
              "    .colab-df-container {\n",
              "      display:flex;\n",
              "      gap: 12px;\n",
              "    }\n",
              "\n",
              "    .colab-df-convert {\n",
              "      background-color: #E8F0FE;\n",
              "      border: none;\n",
              "      border-radius: 50%;\n",
              "      cursor: pointer;\n",
              "      display: none;\n",
              "      fill: #1967D2;\n",
              "      height: 32px;\n",
              "      padding: 0 0 0 0;\n",
              "      width: 32px;\n",
              "    }\n",
              "\n",
              "    .colab-df-convert:hover {\n",
              "      background-color: #E2EBFA;\n",
              "      box-shadow: 0px 1px 2px rgba(60, 64, 67, 0.3), 0px 1px 3px 1px rgba(60, 64, 67, 0.15);\n",
              "      fill: #174EA6;\n",
              "    }\n",
              "\n",
              "    .colab-df-buttons div {\n",
              "      margin-bottom: 4px;\n",
              "    }\n",
              "\n",
              "    [theme=dark] .colab-df-convert {\n",
              "      background-color: #3B4455;\n",
              "      fill: #D2E3FC;\n",
              "    }\n",
              "\n",
              "    [theme=dark] .colab-df-convert:hover {\n",
              "      background-color: #434B5C;\n",
              "      box-shadow: 0px 1px 3px 1px rgba(0, 0, 0, 0.15);\n",
              "      filter: drop-shadow(0px 1px 2px rgba(0, 0, 0, 0.3));\n",
              "      fill: #FFFFFF;\n",
              "    }\n",
              "  </style>\n",
              "\n",
              "    <script>\n",
              "      const buttonEl =\n",
              "        document.querySelector('#df-ae578454-4b35-42ea-9caf-3368e27ed008 button.colab-df-convert');\n",
              "      buttonEl.style.display =\n",
              "        google.colab.kernel.accessAllowed ? 'block' : 'none';\n",
              "\n",
              "      async function convertToInteractive(key) {\n",
              "        const element = document.querySelector('#df-ae578454-4b35-42ea-9caf-3368e27ed008');\n",
              "        const dataTable =\n",
              "          await google.colab.kernel.invokeFunction('convertToInteractive',\n",
              "                                                    [key], {});\n",
              "        if (!dataTable) return;\n",
              "\n",
              "        const docLinkHtml = 'Like what you see? Visit the ' +\n",
              "          '<a target=\"_blank\" href=https://colab.research.google.com/notebooks/data_table.ipynb>data table notebook</a>'\n",
              "          + ' to learn more about interactive tables.';\n",
              "        element.innerHTML = '';\n",
              "        dataTable['output_type'] = 'display_data';\n",
              "        await google.colab.output.renderOutput(dataTable, element);\n",
              "        const docLink = document.createElement('div');\n",
              "        docLink.innerHTML = docLinkHtml;\n",
              "        element.appendChild(docLink);\n",
              "      }\n",
              "    </script>\n",
              "  </div>\n",
              "  \n",
              "    </div>\n",
              "  </div>\n",
              "  "
            ]
          },
          "metadata": {},
          "execution_count": 22
        }
      ]
    },
    {
      "cell_type": "code",
      "source": [
        "tmp.plot()\n",
        "plt.ylabel(\"stock price\")"
      ],
      "metadata": {
        "colab": {
          "base_uri": "https://localhost:8080/",
          "height": 480
        },
        "id": "UDrq18JNiPkf",
        "outputId": "303ead88-4b60-4688-f992-f03932add638"
      },
      "execution_count": 23,
      "outputs": [
        {
          "output_type": "execute_result",
          "data": {
            "text/plain": [
              "Text(0, 0.5, 'stock price')"
            ]
          },
          "metadata": {},
          "execution_count": 23
        },
        {
          "output_type": "display_data",
          "data": {
            "text/plain": [
              "<Figure size 640x480 with 1 Axes>"
            ],
            "image/png": "[encoded data removed]"
          },
          "metadata": {}
        }
      ]
    },
    {
      "cell_type": "code",
      "source": [
        "r2_score(tmp[\"actual\"],tmp[\"predicted\"])"
      ],
      "metadata": {
        "colab": {
          "base_uri": "https://localhost:8080/"
        },
        "id": "TjT5sLe6ilbC",
        "outputId": "75e4ce7e-44d0-4b39-e6b8-0fe784ad8cfc"
      },
      "execution_count": 24,
      "outputs": [
        {
          "output_type": "execute_result",
          "data": {
            "text/plain": [
              "-3.96355277896238"
            ]
          },
          "metadata": {},
          "execution_count": 24
        }
      ]
    },
    {
      "cell_type": "code",
      "source": [
        "# Let's now plot the feature's importance\n",
        "# according to the linear model.\n",
        "\n",
        "# Create series with feature importance.\n",
        "tmp = pd.Series(np.abs(lasso_AMZN.coef_))\n",
        "\n",
        "# Let's add the variable names.\n",
        "tmp.index = X_train_t_AMZN.columns\n",
        "\n",
        "# Let's make a bar plot.\n",
        "tmp.plot.bar(figsize=(15, 6))\n",
        "plt.title(\"Feature importance\")\n",
        "plt.ylabel(\"Importance\")"
      ],
      "metadata": {
        "colab": {
          "base_uri": "https://localhost:8080/",
          "height": 585
        },
        "id": "6Gfj9-90kcNY",
        "outputId": "4ad504fd-75b5-4f95-ed38-8b739a6a49a8"
      },
      "execution_count": 25,
      "outputs": [
        {
          "output_type": "execute_result",
          "data": {
            "text/plain": [
              "Text(0, 0.5, 'Importance')"
            ]
          },
          "metadata": {},
          "execution_count": 25
        },
        {
          "output_type": "display_data",
          "data": {
            "text/plain": [
              "<Figure size 1500x600 with 1 Axes>"
            ],
            "image/png": "[encoded data removed]"
          },
          "metadata": {}
        }
      ]
    },
    {
      "cell_type": "markdown",
      "source": [
        "## XGBoost"
      ],
      "metadata": {
        "id": "X5u_qwfwc2en"
      }
    },
    {
      "cell_type": "code",
      "source": [
        "# Lasso regression\n",
        "\n",
        "xgbr_AMZN = xgboost.XGBRegressor()\n",
        "\n",
        "# Train the model\n",
        "\n",
        "xgbr_AMZN.fit(X_train_t_AMZN, y_train_t_AMZN)"
      ],
      "metadata": {
        "colab": {
          "base_uri": "https://localhost:8080/",
          "height": 248
        },
        "outputId": "95d65f38-e2bb-41e9-f293-a3ef20257db4",
        "id": "u_n8ZxHXcr_g"
      },
      "execution_count": 26,
      "outputs": [
        {
          "output_type": "execute_result",
          "data": {
            "text/plain": [
              "XGBRegressor(base_score=None, booster=None, callbacks=None,\n",
              "             colsample_bylevel=None, colsample_bynode=None,\n",
              "             colsample_bytree=None, device=None, early_stopping_rounds=None,\n",
              "             enable_categorical=False, eval_metric=None, feature_types=None,\n",
              "             gamma=None, grow_policy=None, importance_type=None,\n",
              "             interaction_constraints=None, learning_rate=None, max_bin=None,\n",
              "             max_cat_threshold=None, max_cat_to_onehot=None,\n",
              "             max_delta_step=None, max_depth=None, max_leaves=None,\n",
              "             min_child_weight=None, missing=nan, monotone_constraints=None,\n",
              "             multi_strategy=None, n_estimators=None, n_jobs=None,\n",
              "             num_parallel_tree=None, random_state=None, ...)"
            ],
            "text/html": [
              "<style>#sk-container-id-2 {color: black;background-color: white;}#sk-container-id-2 pre{padding: 0;}#sk-container-id-2 div.sk-toggleable {background-color: white;}#sk-container-id-2 label.sk-toggleable__label {cursor: pointer;display: block;width: 100%;margin-bottom: 0;padding: 0.3em;box-sizing: border-box;text-align: center;}#sk-container-id-2 label.sk-toggleable__label-arrow:before {content: \"▸\";float: left;margin-right: 0.25em;color: #696969;}#sk-container-id-2 label.sk-toggleable__label-arrow:hover:before {color: black;}#sk-container-id-2 div.sk-estimator:hover label.sk-toggleable__label-arrow:before {color: black;}#sk-container-id-2 div.sk-toggleable__content {max-height: 0;max-width: 0;overflow: hidden;text-align: left;background-color: #f0f8ff;}#sk-container-id-2 div.sk-toggleable__content pre {margin: 0.2em;color: black;border-radius: 0.25em;background-color: #f0f8ff;}#sk-container-id-2 input.sk-toggleable__control:checked~div.sk-toggleable__content {max-height: 200px;max-width: 100%;overflow: auto;}#sk-container-id-2 input.sk-toggleable__control:checked~label.sk-toggleable__label-arrow:before {content: \"▾\";}#sk-container-id-2 div.sk-estimator input.sk-toggleable__control:checked~label.sk-toggleable__label {background-color: #d4ebff;}#sk-container-id-2 div.sk-label input.sk-toggleable__control:checked~label.sk-toggleable__label {background-color: #d4ebff;}#sk-container-id-2 input.sk-hidden--visually {border: 0;clip: rect(1px 1px 1px 1px);clip: rect(1px, 1px, 1px, 1px);height: 1px;margin: -1px;overflow: hidden;padding: 0;position: absolute;width: 1px;}#sk-container-id-2 div.sk-estimator {font-family: monospace;background-color: #f0f8ff;border: 1px dotted black;border-radius: 0.25em;box-sizing: border-box;margin-bottom: 0.5em;}#sk-container-id-2 div.sk-estimator:hover {background-color: #d4ebff;}#sk-container-id-2 div.sk-parallel-item::after {content: \"\";width: 100%;border-bottom: 1px solid gray;flex-grow: 1;}#sk-container-id-2 div.sk-label:hover label.sk-toggleable__label {background-color: #d4ebff;}#sk-container-id-2 div.sk-serial::before {content: \"\";position: absolute;border-left: 1px solid gray;box-sizing: border-box;top: 0;bottom: 0;left: 50%;z-index: 0;}#sk-container-id-2 div.sk-serial {display: flex;flex-direction: column;align-items: center;background-color: white;padding-right: 0.2em;padding-left: 0.2em;position: relative;}#sk-container-id-2 div.sk-item {position: relative;z-index: 1;}#sk-container-id-2 div.sk-parallel {display: flex;align-items: stretch;justify-content: center;background-color: white;position: relative;}#sk-container-id-2 div.sk-item::before, #sk-container-id-2 div.sk-parallel-item::before {content: \"\";position: absolute;border-left: 1px solid gray;box-sizing: border-box;top: 0;bottom: 0;left: 50%;z-index: -1;}#sk-container-id-2 div.sk-parallel-item {display: flex;flex-direction: column;z-index: 1;position: relative;background-color: white;}#sk-container-id-2 div.sk-parallel-item:first-child::after {align-self: flex-end;width: 50%;}#sk-container-id-2 div.sk-parallel-item:last-child::after {align-self: flex-start;width: 50%;}#sk-container-id-2 div.sk-parallel-item:only-child::after {width: 0;}#sk-container-id-2 div.sk-dashed-wrapped {border: 1px dashed gray;margin: 0 0.4em 0.5em 0.4em;box-sizing: border-box;padding-bottom: 0.4em;background-color: white;}#sk-container-id-2 div.sk-label label {font-family: monospace;font-weight: bold;display: inline-block;line-height: 1.2em;}#sk-container-id-2 div.sk-label-container {text-align: center;}#sk-container-id-2 div.sk-container {/* jupyter's `normalize.less` sets `[hidden] { display: none; }` but bootstrap.min.css set `[hidden] { display: none !important; }` so we also need the `!important` here to be able to override the default hidden behavior on the sphinx rendered scikit-learn.org. See: https://github.com/scikit-learn/scikit-learn/issues/21755 */display: inline-block !important;position: relative;}#sk-container-id-2 div.sk-text-repr-fallback {display: none;}</style><div id=\"sk-container-id-2\" class=\"sk-top-container\"><div class=\"sk-text-repr-fallback\"><pre>XGBRegressor(base_score=None, booster=None, callbacks=None,\n",
              "             colsample_bylevel=None, colsample_bynode=None,\n",
              "             colsample_bytree=None, device=None, early_stopping_rounds=None,\n",
              "             enable_categorical=False, eval_metric=None, feature_types=None,\n",
              "             gamma=None, grow_policy=None, importance_type=None,\n",
              "             interaction_constraints=None, learning_rate=None, max_bin=None,\n",
              "             max_cat_threshold=None, max_cat_to_onehot=None,\n",
              "             max_delta_step=None, max_depth=None, max_leaves=None,\n",
              "             min_child_weight=None, missing=nan, monotone_constraints=None,\n",
              "             multi_strategy=None, n_estimators=None, n_jobs=None,\n",
              "             num_parallel_tree=None, random_state=None, ...)</pre><b>In a Jupyter environment, please rerun this cell to show the HTML representation or trust the notebook. <br />On GitHub, the HTML representation is unable to render, please try loading this page with nbviewer.org.</b></div><div class=\"sk-container\" hidden><div class=\"sk-item\"><div class=\"sk-estimator sk-toggleable\"><input class=\"sk-toggleable__control sk-hidden--visually\" id=\"sk-estimator-id-2\" type=\"checkbox\" checked><label for=\"sk-estimator-id-2\" class=\"sk-toggleable__label sk-toggleable__label-arrow\">XGBRegressor</label><div class=\"sk-toggleable__content\"><pre>XGBRegressor(base_score=None, booster=None, callbacks=None,\n",
              "             colsample_bylevel=None, colsample_bynode=None,\n",
              "             colsample_bytree=None, device=None, early_stopping_rounds=None,\n",
              "             enable_categorical=False, eval_metric=None, feature_types=None,\n",
              "             gamma=None, grow_policy=None, importance_type=None,\n",
              "             interaction_constraints=None, learning_rate=None, max_bin=None,\n",
              "             max_cat_threshold=None, max_cat_to_onehot=None,\n",
              "             max_delta_step=None, max_depth=None, max_leaves=None,\n",
              "             min_child_weight=None, missing=nan, monotone_constraints=None,\n",
              "             multi_strategy=None, n_estimators=None, n_jobs=None,\n",
              "             num_parallel_tree=None, random_state=None, ...)</pre></div></div></div></div></div>"
            ]
          },
          "metadata": {},
          "execution_count": 26
        }
      ]
    },
    {
      "cell_type": "code",
      "source": [
        "# The first day of forecast.\n",
        "forecast_point = pd.Timestamp(\"2019-05-07\")\n",
        "\n",
        "# The forecasting horizon (5 days ahead)\n",
        "forecast_end = forecast_point + pd.offsets.Day(7)\n",
        "\n",
        "# The timestamps at which we want to predict\n",
        "\n",
        "index = pd.date_range(\n",
        "    start=forecast_point,\n",
        "    end=forecast_end,\n",
        "    freq=\"1D\",\n",
        ")\n",
        "\n",
        "# the forecasting horizon\n",
        "f_horizon = pd.DataFrame(columns=[\"price\"], index=index)\n",
        "\n",
        "f_horizon"
      ],
      "metadata": {
        "colab": {
          "base_uri": "https://localhost:8080/",
          "height": 300
        },
        "outputId": "4010ecf5-5ad5-4b04-9245-88c638818684",
        "id": "npwuN6Njcr_x"
      },
      "execution_count": 27,
      "outputs": [
        {
          "output_type": "execute_result",
          "data": {
            "text/plain": [
              "           price\n",
              "2019-05-07   NaN\n",
              "2019-05-08   NaN\n",
              "2019-05-09   NaN\n",
              "2019-05-10   NaN\n",
              "2019-05-11   NaN\n",
              "2019-05-12   NaN\n",
              "2019-05-13   NaN\n",
              "2019-05-14   NaN"
            ],
            "text/html": [
              "\n",
              "  <div id=\"df-80d34c54-00d2-4815-83e0-084d3c29e4be\" class=\"colab-df-container\">\n",
              "    <div>\n",
              "<style scoped>\n",
              "    .dataframe tbody tr th:only-of-type {\n",
              "        vertical-align: middle;\n",
              "    }\n",
              "\n",
              "    .dataframe tbody tr th {\n",
              "        vertical-align: top;\n",
              "    }\n",
              "\n",
              "    .dataframe thead th {\n",
              "        text-align: right;\n",
              "    }\n",
              "</style>\n",
              "<table border=\"1\" class=\"dataframe\">\n",
              "  <thead>\n",
              "    <tr style=\"text-align: right;\">\n",
              "      <th></th>\n",
              "      <th>price</th>\n",
              "    </tr>\n",
              "  </thead>\n",
              "  <tbody>\n",
              "    <tr>\n",
              "      <th>2019-05-07</th>\n",
              "      <td>NaN</td>\n",
              "    </tr>\n",
              "    <tr>\n",
              "      <th>2019-05-08</th>\n",
              "      <td>NaN</td>\n",
              "    </tr>\n",
              "    <tr>\n",
              "      <th>2019-05-09</th>\n",
              "      <td>NaN</td>\n",
              "    </tr>\n",
              "    <tr>\n",
              "      <th>2019-05-10</th>\n",
              "      <td>NaN</td>\n",
              "    </tr>\n",
              "    <tr>\n",
              "      <th>2019-05-11</th>\n",
              "      <td>NaN</td>\n",
              "    </tr>\n",
              "    <tr>\n",
              "      <th>2019-05-12</th>\n",
              "      <td>NaN</td>\n",
              "    </tr>\n",
              "    <tr>\n",
              "      <th>2019-05-13</th>\n",
              "      <td>NaN</td>\n",
              "    </tr>\n",
              "    <tr>\n",
              "      <th>2019-05-14</th>\n",
              "      <td>NaN</td>\n",
              "    </tr>\n",
              "  </tbody>\n",
              "</table>\n",
              "</div>\n",
              "    <div class=\"colab-df-buttons\">\n",
              "      \n",
              "  <div class=\"colab-df-container\">\n",
              "    <button class=\"colab-df-convert\" onclick=\"convertToInteractive('df-80d34c54-00d2-4815-83e0-084d3c29e4be')\"\n",
              "            title=\"Convert this dataframe to an interactive table.\"\n",
              "            style=\"display:none;\">\n",
              "      \n",
              "  <svg xmlns=\"http://www.w3.org/2000/svg\" height=\"24px\" viewBox=\"0 -960 960 960\">\n",
              "    <path d=\"M120-120v-720h720v720H120Zm60-500h600v-160H180v160Zm220 220h160v-160H400v160Zm0 220h160v-160H400v160ZM180-400h160v-160H180v160Zm440 0h160v-160H620v160ZM180-180h160v-160H180v160Zm440 0h160v-160H620v160Z\"/>\n",
              "  </svg>\n",
              "    </button>\n",
              "    \n",
              "  <style>\n",
              "    .colab-df-container {\n",
              "      display:flex;\n",
              "      gap: 12px;\n",
              "    }\n",
              "\n",
              "    .colab-df-convert {\n",
              "      background-color: #E8F0FE;\n",
              "      border: none;\n",
              "      border-radius: 50%;\n",
              "      cursor: pointer;\n",
              "      display: none;\n",
              "      fill: #1967D2;\n",
              "      height: 32px;\n",
              "      padding: 0 0 0 0;\n",
              "      width: 32px;\n",
              "    }\n",
              "\n",
              "    .colab-df-convert:hover {\n",
              "      background-color: #E2EBFA;\n",
              "      box-shadow: 0px 1px 2px rgba(60, 64, 67, 0.3), 0px 1px 3px 1px rgba(60, 64, 67, 0.15);\n",
              "      fill: #174EA6;\n",
              "    }\n",
              "\n",
              "    .colab-df-buttons div {\n",
              "      margin-bottom: 4px;\n",
              "    }\n",
              "\n",
              "    [theme=dark] .colab-df-convert {\n",
              "      background-color: #3B4455;\n",
              "      fill: #D2E3FC;\n",
              "    }\n",
              "\n",
              "    [theme=dark] .colab-df-convert:hover {\n",
              "      background-color: #434B5C;\n",
              "      box-shadow: 0px 1px 3px 1px rgba(0, 0, 0, 0.15);\n",
              "      filter: drop-shadow(0px 1px 2px rgba(0, 0, 0, 0.3));\n",
              "      fill: #FFFFFF;\n",
              "    }\n",
              "  </style>\n",
              "\n",
              "    <script>\n",
              "      const buttonEl =\n",
              "        document.querySelector('#df-80d34c54-00d2-4815-83e0-084d3c29e4be button.colab-df-convert');\n",
              "      buttonEl.style.display =\n",
              "        google.colab.kernel.accessAllowed ? 'block' : 'none';\n",
              "\n",
              "      async function convertToInteractive(key) {\n",
              "        const element = document.querySelector('#df-80d34c54-00d2-4815-83e0-084d3c29e4be');\n",
              "        const dataTable =\n",
              "          await google.colab.kernel.invokeFunction('convertToInteractive',\n",
              "                                                    [key], {});\n",
              "        if (!dataTable) return;\n",
              "\n",
              "        const docLinkHtml = 'Like what you see? Visit the ' +\n",
              "          '<a target=\"_blank\" href=https://colab.research.google.com/notebooks/data_table.ipynb>data table notebook</a>'\n",
              "          + ' to learn more about interactive tables.';\n",
              "        element.innerHTML = '';\n",
              "        dataTable['output_type'] = 'display_data';\n",
              "        await google.colab.output.renderOutput(dataTable, element);\n",
              "        const docLink = document.createElement('div');\n",
              "        docLink.innerHTML = docLinkHtml;\n",
              "        element.appendChild(docLink);\n",
              "      }\n",
              "    </script>\n",
              "  </div>\n",
              "  \n",
              "    </div>\n",
              "  </div>\n",
              "  "
            ]
          },
          "metadata": {},
          "execution_count": 27
        }
      ]
    },
    {
      "cell_type": "code",
      "source": [
        "# Obtain the input data for the predictions\n",
        "\n",
        "# The first day of forecast.\n",
        "forecast_point = pd.Timestamp(\"2019-05-07\")\n",
        "\n",
        "# 1 month before the first forecasting point\n",
        "start_point = forecast_point - pd.DateOffset(days=32)\n",
        "\n",
        "# Create input data to obtain the first prediction value.\n",
        "input_data = X_test_AMZN[(X_test_AMZN.index >= start_point) & (X_test_AMZN.index < forecast_point)]\n",
        "input_data.loc[forecast_point] = np.nan"
      ],
      "metadata": {
        "colab": {
          "base_uri": "https://localhost:8080/"
        },
        "outputId": "609bea53-893d-4dfc-c317-d1c110d86342",
        "id": "9nRChKHvcr_y"
      },
      "execution_count": 28,
      "outputs": [
        {
          "output_type": "stream",
          "name": "stderr",
          "text": [
            "<ipython-input-28-5aacbb9a315b>:11: SettingWithCopyWarning: \n",
            "A value is trying to be set on a copy of a slice from a DataFrame\n",
            "\n",
            "See the caveats in the documentation: https://pandas.pydata.org/pandas-docs/stable/user_guide/indexing.html#returning-a-view-versus-a-copy\n",
            "  input_data.loc[forecast_point] = np.nan\n"
          ]
        }
      ]
    },
    {
      "cell_type": "code",
      "source": [
        "# Let's obtain the first prediction.\n",
        "\n",
        "pred = xgbr_AMZN.predict(pipe.transform(input_data))[0]"
      ],
      "metadata": {
        "id": "I7hG8Woecr_y"
      },
      "execution_count": 29,
      "outputs": []
    },
    {
      "cell_type": "code",
      "source": [
        "# Add the prediction to the horizon\n",
        "# and to the input data\n",
        "\n",
        "f_horizon.loc[forecast_point] = pred\n",
        "input_data.loc[forecast_point] = pred"
      ],
      "metadata": {
        "colab": {
          "base_uri": "https://localhost:8080/"
        },
        "outputId": "644cf307-5bdd-4167-cb46-6d53686bdda7",
        "id": "uhPp4I1Qcr_z"
      },
      "execution_count": 30,
      "outputs": [
        {
          "output_type": "stream",
          "name": "stderr",
          "text": [
            "<ipython-input-30-bfb1073e7b81>:5: SettingWithCopyWarning: \n",
            "A value is trying to be set on a copy of a slice from a DataFrame\n",
            "\n",
            "See the caveats in the documentation: https://pandas.pydata.org/pandas-docs/stable/user_guide/indexing.html#returning-a-view-versus-a-copy\n",
            "  input_data.loc[forecast_point] = pred\n"
          ]
        }
      ]
    },
    {
      "cell_type": "code",
      "source": [
        "# And we repeat the process 23 times:\n",
        "\n",
        "for i in range(7):\n",
        "\n",
        "    # Re-slice the input data\n",
        "    start_point = start_point + pd.DateOffset(days=1)\n",
        "    forecast_point = forecast_point + pd.DateOffset(days=1)\n",
        "\n",
        "    input_data = input_data[(input_data.index >= start_point)]\n",
        "    input_data.loc[forecast_point] = np.nan\n",
        "\n",
        "    # Obtain the prediction\n",
        "    pred = xgbr_AMZN.predict(pipe.transform(input_data))\n",
        "\n",
        "    # Add prediction to horizon.\n",
        "    f_horizon.loc[forecast_point] = pred[-1]\n",
        "    input_data.loc[forecast_point] = pred[-1]\n",
        "\n",
        "f_horizon"
      ],
      "metadata": {
        "colab": {
          "base_uri": "https://localhost:8080/",
          "height": 300
        },
        "outputId": "d4d6eb8c-678f-485c-e661-02e76781ef92",
        "id": "60oturEMcr_z"
      },
      "execution_count": 31,
      "outputs": [
        {
          "output_type": "execute_result",
          "data": {
            "text/plain": [
              "                  price\n",
              "2019-05-07  1960.595703\n",
              "2019-05-08  1965.145508\n",
              "2019-05-09  1947.824341\n",
              "2019-05-10  1959.199097\n",
              "2019-05-11  1972.986816\n",
              "2019-05-12  1963.582031\n",
              "2019-05-13   1971.03894\n",
              "2019-05-14  1961.646362"
            ],
            "text/html": [
              "\n",
              "  <div id=\"df-f4c88b6b-e7b3-43fb-90fa-780de1427374\" class=\"colab-df-container\">\n",
              "    <div>\n",
              "<style scoped>\n",
              "    .dataframe tbody tr th:only-of-type {\n",
              "        vertical-align: middle;\n",
              "    }\n",
              "\n",
              "    .dataframe tbody tr th {\n",
              "        vertical-align: top;\n",
              "    }\n",
              "\n",
              "    .dataframe thead th {\n",
              "        text-align: right;\n",
              "    }\n",
              "</style>\n",
              "<table border=\"1\" class=\"dataframe\">\n",
              "  <thead>\n",
              "    <tr style=\"text-align: right;\">\n",
              "      <th></th>\n",
              "      <th>price</th>\n",
              "    </tr>\n",
              "  </thead>\n",
              "  <tbody>\n",
              "    <tr>\n",
              "      <th>2019-05-07</th>\n",
              "      <td>1960.595703</td>\n",
              "    </tr>\n",
              "    <tr>\n",
              "      <th>2019-05-08</th>\n",
              "      <td>1965.145508</td>\n",
              "    </tr>\n",
              "    <tr>\n",
              "      <th>2019-05-09</th>\n",
              "      <td>1947.824341</td>\n",
              "    </tr>\n",
              "    <tr>\n",
              "      <th>2019-05-10</th>\n",
              "      <td>1959.199097</td>\n",
              "    </tr>\n",
              "    <tr>\n",
              "      <th>2019-05-11</th>\n",
              "      <td>1972.986816</td>\n",
              "    </tr>\n",
              "    <tr>\n",
              "      <th>2019-05-12</th>\n",
              "      <td>1963.582031</td>\n",
              "    </tr>\n",
              "    <tr>\n",
              "      <th>2019-05-13</th>\n",
              "      <td>1971.03894</td>\n",
              "    </tr>\n",
              "    <tr>\n",
              "      <th>2019-05-14</th>\n",
              "      <td>1961.646362</td>\n",
              "    </tr>\n",
              "  </tbody>\n",
              "</table>\n",
              "</div>\n",
              "    <div class=\"colab-df-buttons\">\n",
              "      \n",
              "  <div class=\"colab-df-container\">\n",
              "    <button class=\"colab-df-convert\" onclick=\"convertToInteractive('df-f4c88b6b-e7b3-43fb-90fa-780de1427374')\"\n",
              "            title=\"Convert this dataframe to an interactive table.\"\n",
              "            style=\"display:none;\">\n",
              "      \n",
              "  <svg xmlns=\"http://www.w3.org/2000/svg\" height=\"24px\" viewBox=\"0 -960 960 960\">\n",
              "    <path d=\"M120-120v-720h720v720H120Zm60-500h600v-160H180v160Zm220 220h160v-160H400v160Zm0 220h160v-160H400v160ZM180-400h160v-160H180v160Zm440 0h160v-160H620v160ZM180-180h160v-160H180v160Zm440 0h160v-160H620v160Z\"/>\n",
              "  </svg>\n",
              "    </button>\n",
              "    \n",
              "  <style>\n",
              "    .colab-df-container {\n",
              "      display:flex;\n",
              "      gap: 12px;\n",
              "    }\n",
              "\n",
              "    .colab-df-convert {\n",
              "      background-color: #E8F0FE;\n",
              "      border: none;\n",
              "      border-radius: 50%;\n",
              "      cursor: pointer;\n",
              "      display: none;\n",
              "      fill: #1967D2;\n",
              "      height: 32px;\n",
              "      padding: 0 0 0 0;\n",
              "      width: 32px;\n",
              "    }\n",
              "\n",
              "    .colab-df-convert:hover {\n",
              "      background-color: #E2EBFA;\n",
              "      box-shadow: 0px 1px 2px rgba(60, 64, 67, 0.3), 0px 1px 3px 1px rgba(60, 64, 67, 0.15);\n",
              "      fill: #174EA6;\n",
              "    }\n",
              "\n",
              "    .colab-df-buttons div {\n",
              "      margin-bottom: 4px;\n",
              "    }\n",
              "\n",
              "    [theme=dark] .colab-df-convert {\n",
              "      background-color: #3B4455;\n",
              "      fill: #D2E3FC;\n",
              "    }\n",
              "\n",
              "    [theme=dark] .colab-df-convert:hover {\n",
              "      background-color: #434B5C;\n",
              "      box-shadow: 0px 1px 3px 1px rgba(0, 0, 0, 0.15);\n",
              "      filter: drop-shadow(0px 1px 2px rgba(0, 0, 0, 0.3));\n",
              "      fill: #FFFFFF;\n",
              "    }\n",
              "  </style>\n",
              "\n",
              "    <script>\n",
              "      const buttonEl =\n",
              "        document.querySelector('#df-f4c88b6b-e7b3-43fb-90fa-780de1427374 button.colab-df-convert');\n",
              "      buttonEl.style.display =\n",
              "        google.colab.kernel.accessAllowed ? 'block' : 'none';\n",
              "\n",
              "      async function convertToInteractive(key) {\n",
              "        const element = document.querySelector('#df-f4c88b6b-e7b3-43fb-90fa-780de1427374');\n",
              "        const dataTable =\n",
              "          await google.colab.kernel.invokeFunction('convertToInteractive',\n",
              "                                                    [key], {});\n",
              "        if (!dataTable) return;\n",
              "\n",
              "        const docLinkHtml = 'Like what you see? Visit the ' +\n",
              "          '<a target=\"_blank\" href=https://colab.research.google.com/notebooks/data_table.ipynb>data table notebook</a>'\n",
              "          + ' to learn more about interactive tables.';\n",
              "        element.innerHTML = '';\n",
              "        dataTable['output_type'] = 'display_data';\n",
              "        await google.colab.output.renderOutput(dataTable, element);\n",
              "        const docLink = document.createElement('div');\n",
              "        docLink.innerHTML = docLinkHtml;\n",
              "        element.appendChild(docLink);\n",
              "      }\n",
              "    </script>\n",
              "  </div>\n",
              "  \n",
              "    </div>\n",
              "  </div>\n",
              "  "
            ]
          },
          "metadata": {},
          "execution_count": 31
        }
      ]
    },
    {
      "cell_type": "code",
      "source": [
        "# We can plot our predictions vs. the truth, which is\n",
        "# the stock price in the test set.\n",
        "\n",
        "tmp = pd.DataFrame(f_horizon[\"price\"]).join(\n",
        "    X_test_AMZN[\"price\"], lsuffix=\"_left\", rsuffix=\"_right\")\n",
        "\n",
        "tmp.columns = [\"predicted\", \"actual\"]\n",
        "\n",
        "tmp = tmp.dropna()\n",
        "\n",
        "tmp"
      ],
      "metadata": {
        "colab": {
          "base_uri": "https://localhost:8080/",
          "height": 237
        },
        "outputId": "84c5ed94-883f-4a5e-fdcb-71c5f55f9473",
        "id": "_VuFzOABcr_z"
      },
      "execution_count": 32,
      "outputs": [
        {
          "output_type": "execute_result",
          "data": {
            "text/plain": [
              "              predicted       actual\n",
              "2019-05-07  1960.595703  1921.000000\n",
              "2019-05-08  1965.145508  1917.770020\n",
              "2019-05-09  1947.824341  1899.869995\n",
              "2019-05-10  1959.199097  1889.979980\n",
              "2019-05-13   1971.03894  1822.680054\n",
              "2019-05-14  1961.646362  1840.119995"
            ],
            "text/html": [
              "\n",
              "  <div id=\"df-f2c05b19-4b08-4ea5-b78a-582b8a845f35\" class=\"colab-df-container\">\n",
              "    <div>\n",
              "<style scoped>\n",
              "    .dataframe tbody tr th:only-of-type {\n",
              "        vertical-align: middle;\n",
              "    }\n",
              "\n",
              "    .dataframe tbody tr th {\n",
              "        vertical-align: top;\n",
              "    }\n",
              "\n",
              "    .dataframe thead th {\n",
              "        text-align: right;\n",
              "    }\n",
              "</style>\n",
              "<table border=\"1\" class=\"dataframe\">\n",
              "  <thead>\n",
              "    <tr style=\"text-align: right;\">\n",
              "      <th></th>\n",
              "      <th>predicted</th>\n",
              "      <th>actual</th>\n",
              "    </tr>\n",
              "  </thead>\n",
              "  <tbody>\n",
              "    <tr>\n",
              "      <th>2019-05-07</th>\n",
              "      <td>1960.595703</td>\n",
              "      <td>1921.000000</td>\n",
              "    </tr>\n",
              "    <tr>\n",
              "      <th>2019-05-08</th>\n",
              "      <td>1965.145508</td>\n",
              "      <td>1917.770020</td>\n",
              "    </tr>\n",
              "    <tr>\n",
              "      <th>2019-05-09</th>\n",
              "      <td>1947.824341</td>\n",
              "      <td>1899.869995</td>\n",
              "    </tr>\n",
              "    <tr>\n",
              "      <th>2019-05-10</th>\n",
              "      <td>1959.199097</td>\n",
              "      <td>1889.979980</td>\n",
              "    </tr>\n",
              "    <tr>\n",
              "      <th>2019-05-13</th>\n",
              "      <td>1971.03894</td>\n",
              "      <td>1822.680054</td>\n",
              "    </tr>\n",
              "    <tr>\n",
              "      <th>2019-05-14</th>\n",
              "      <td>1961.646362</td>\n",
              "      <td>1840.119995</td>\n",
              "    </tr>\n",
              "  </tbody>\n",
              "</table>\n",
              "</div>\n",
              "    <div class=\"colab-df-buttons\">\n",
              "      \n",
              "  <div class=\"colab-df-container\">\n",
              "    <button class=\"colab-df-convert\" onclick=\"convertToInteractive('df-f2c05b19-4b08-4ea5-b78a-582b8a845f35')\"\n",
              "            title=\"Convert this dataframe to an interactive table.\"\n",
              "            style=\"display:none;\">\n",
              "      \n",
              "  <svg xmlns=\"http://www.w3.org/2000/svg\" height=\"24px\" viewBox=\"0 -960 960 960\">\n",
              "    <path d=\"M120-120v-720h720v720H120Zm60-500h600v-160H180v160Zm220 220h160v-160H400v160Zm0 220h160v-160H400v160ZM180-400h160v-160H180v160Zm440 0h160v-160H620v160ZM180-180h160v-160H180v160Zm440 0h160v-160H620v160Z\"/>\n",
              "  </svg>\n",
              "    </button>\n",
              "    \n",
              "  <style>\n",
              "    .colab-df-container {\n",
              "      display:flex;\n",
              "      gap: 12px;\n",
              "    }\n",
              "\n",
              "    .colab-df-convert {\n",
              "      background-color: #E8F0FE;\n",
              "      border: none;\n",
              "      border-radius: 50%;\n",
              "      cursor: pointer;\n",
              "      display: none;\n",
              "      fill: #1967D2;\n",
              "      height: 32px;\n",
              "      padding: 0 0 0 0;\n",
              "      width: 32px;\n",
              "    }\n",
              "\n",
              "    .colab-df-convert:hover {\n",
              "      background-color: #E2EBFA;\n",
              "      box-shadow: 0px 1px 2px rgba(60, 64, 67, 0.3), 0px 1px 3px 1px rgba(60, 64, 67, 0.15);\n",
              "      fill: #174EA6;\n",
              "    }\n",
              "\n",
              "    .colab-df-buttons div {\n",
              "      margin-bottom: 4px;\n",
              "    }\n",
              "\n",
              "    [theme=dark] .colab-df-convert {\n",
              "      background-color: #3B4455;\n",
              "      fill: #D2E3FC;\n",
              "    }\n",
              "\n",
              "    [theme=dark] .colab-df-convert:hover {\n",
              "      background-color: #434B5C;\n",
              "      box-shadow: 0px 1px 3px 1px rgba(0, 0, 0, 0.15);\n",
              "      filter: drop-shadow(0px 1px 2px rgba(0, 0, 0, 0.3));\n",
              "      fill: #FFFFFF;\n",
              "    }\n",
              "  </style>\n",
              "\n",
              "    <script>\n",
              "      const buttonEl =\n",
              "        document.querySelector('#df-f2c05b19-4b08-4ea5-b78a-582b8a845f35 button.colab-df-convert');\n",
              "      buttonEl.style.display =\n",
              "        google.colab.kernel.accessAllowed ? 'block' : 'none';\n",
              "\n",
              "      async function convertToInteractive(key) {\n",
              "        const element = document.querySelector('#df-f2c05b19-4b08-4ea5-b78a-582b8a845f35');\n",
              "        const dataTable =\n",
              "          await google.colab.kernel.invokeFunction('convertToInteractive',\n",
              "                                                    [key], {});\n",
              "        if (!dataTable) return;\n",
              "\n",
              "        const docLinkHtml = 'Like what you see? Visit the ' +\n",
              "          '<a target=\"_blank\" href=https://colab.research.google.com/notebooks/data_table.ipynb>data table notebook</a>'\n",
              "          + ' to learn more about interactive tables.';\n",
              "        element.innerHTML = '';\n",
              "        dataTable['output_type'] = 'display_data';\n",
              "        await google.colab.output.renderOutput(dataTable, element);\n",
              "        const docLink = document.createElement('div');\n",
              "        docLink.innerHTML = docLinkHtml;\n",
              "        element.appendChild(docLink);\n",
              "      }\n",
              "    </script>\n",
              "  </div>\n",
              "  \n",
              "    </div>\n",
              "  </div>\n",
              "  "
            ]
          },
          "metadata": {},
          "execution_count": 32
        }
      ]
    },
    {
      "cell_type": "code",
      "source": [
        "tmp.plot()\n",
        "plt.ylabel(\"stock price\")"
      ],
      "metadata": {
        "colab": {
          "base_uri": "https://localhost:8080/",
          "height": 480
        },
        "outputId": "62ca1f83-7728-4167-cce4-615338530aa8",
        "id": "CazO-OZDcr_0"
      },
      "execution_count": 33,
      "outputs": [
        {
          "output_type": "execute_result",
          "data": {
            "text/plain": [
              "Text(0, 0.5, 'stock price')"
            ]
          },
          "metadata": {},
          "execution_count": 33
        },
        {
          "output_type": "display_data",
          "data": {
            "text/plain": [
              "<Figure size 640x480 with 1 Axes>"
            ],
            "image/png": "[encoded data removed]"
          },
          "metadata": {}
        }
      ]
    },
    {
      "cell_type": "code",
      "source": [
        "r2_score(tmp[\"actual\"],tmp[\"predicted\"])"
      ],
      "metadata": {
        "colab": {
          "base_uri": "https://localhost:8080/"
        },
        "outputId": "a6f26afd-16f6-4482-f1a0-f553474cba2e",
        "id": "DqV2D-fIcr_0"
      },
      "execution_count": 34,
      "outputs": [
        {
          "output_type": "execute_result",
          "data": {
            "text/plain": [
              "-4.638693543045253"
            ]
          },
          "metadata": {},
          "execution_count": 34
        }
      ]
    },
    {
      "cell_type": "code",
      "source": [
        "xgboost.plot_importance(xgbr_AMZN, importance_type='weight')\n",
        "\n",
        "plt.show()"
      ],
      "metadata": {
        "colab": {
          "base_uri": "https://localhost:8080/",
          "height": 472
        },
        "outputId": "a5acd23f-a72e-45ab-a4f8-1f949ecb7dd2",
        "id": "zfNa8D7Vcr_0"
      },
      "execution_count": 35,
      "outputs": [
        {
          "output_type": "display_data",
          "data": {
            "text/plain": [
              "<Figure size 640x480 with 1 Axes>"
            ],
            "image/png": "[encoded data removed]"
          },
          "metadata": {}
        }
      ]
    }
  ]
}